{
 "cells": [
  {
   "cell_type": "markdown",
   "metadata": {
    "toc": true
   },
   "source": [
    "<h1>Índice<span class=\"tocSkip\"></span></h1>\n",
    "<div class=\"toc\"><ul class=\"toc-item\"><li><span><a href=\"#Curso-Básico-de-ROS-(Robot-Operating-System)---Prácticas-7-/-7\" data-toc-modified-id=\"Curso-Básico-de-ROS-(Robot-Operating-System)---Prácticas-7-/-7-1\"><span class=\"toc-item-num\">1&nbsp;&nbsp;</span>Curso Básico de ROS (Robot Operating System) - Prácticas 7 / 7</a></span><ul class=\"toc-item\"><li><span><a href=\"#Grabar-datos-(crear-el-archivo-bag)\" data-toc-modified-id=\"Grabar-datos-(crear-el-archivo-bag)-1.1\"><span class=\"toc-item-num\">1.1&nbsp;&nbsp;</span>Grabar datos (crear el archivo bag)</a></span><ul class=\"toc-item\"><li><span><a href=\"#Preliminarios\" data-toc-modified-id=\"Preliminarios-1.1.1\"><span class=\"toc-item-num\">1.1.1&nbsp;&nbsp;</span>Preliminarios</a></span></li><li><span><a href=\"#Grabar-todos-los-topics\" data-toc-modified-id=\"Grabar-todos-los-topics-1.1.2\"><span class=\"toc-item-num\">1.1.2&nbsp;&nbsp;</span>Grabar todos los topics</a></span></li><li><span><a href=\"#Grabar-algunos-topics\" data-toc-modified-id=\"Grabar-algunos-topics-1.1.3\"><span class=\"toc-item-num\">1.1.3&nbsp;&nbsp;</span>Grabar algunos topics</a></span></li><li><span><a href=\"#Examinar-el-archivo-.bag\" data-toc-modified-id=\"Examinar-el-archivo-.bag-1.1.4\"><span class=\"toc-item-num\">1.1.4&nbsp;&nbsp;</span>Examinar el archivo .bag</a></span></li><li><span><a href=\"#Leer-el-archivo-.bag\" data-toc-modified-id=\"Leer-el-archivo-.bag-1.1.5\"><span class=\"toc-item-num\">1.1.5&nbsp;&nbsp;</span>Leer el archivo .bag</a></span></li><li><span><a href=\"#Listo!\" data-toc-modified-id=\"Listo!-1.1.6\"><span class=\"toc-item-num\">1.1.6&nbsp;&nbsp;</span>Listo!</a></span></li></ul></li></ul></li></ul></div>"
   ]
  },
  {
   "cell_type": "markdown",
   "metadata": {},
   "source": [
    "# Curso Básico de ROS (Robot Operating System) - Prácticas 7 / 7\n",
    "Jupyter Notebook para los exercios prácticos de la sessión #1 del curso.\n",
    "\n",
    "- Grabación y reproducción de datos\n",
    "    - `rosbag` (`ros` + `bag`)"
   ]
  },
  {
   "cell_type": "markdown",
   "metadata": {},
   "source": [
    "##  Grabar datos (crear el archivo bag)\n",
    "\n",
    "### Preliminarios\n",
    "\n",
    "- Desamos grabar datos de *Topics* de un sistema de ROS en funcionamiento.\n",
    "\n",
    "- Los datos del tema se acumularán en un archivo `.bag`\n",
    "\n",
    "- Primero, asegurate que el `turtlesim` sigue funcionando (con el `teleop_key` también). Si no, referate a la **Práctica 2**\n",
    "\n",
    "### Grabar todos los topics\n",
    "\n",
    "- Primero vamos a examinar la lista completa de los *Topics* que están publicando actualmente en el sistema en ejecución.\n",
    "\n",
    "- Abre una nueva pestaña y ejecute el comando:\n",
    "\n",
    ">| []() |  []() |\n",
    "|:---:|:---:| \n",
    "| <img src=\"IMAGES/objects/Tango icon library/Apps/accessories-text-editor.svg\"> |`$ rostopic list -v`\n",
    "\n",
    "- Verás algo parecido a eso:\n",
    "\n",
    ">| []() |  []() |\n",
    "|:---:|:---:| \n",
    "| <img src=\"IMAGES/objects/Tango icon library/Apps/utilities-terminal.svg\"> | <img src=\"IMAGES/rostopic_list_verbose.png\">\n",
    "\n",
    ">| []() |  []() |\n",
    "|:---:|:---:| \n",
    "| <img src=\"IMAGES/objects/notice.svg\"> | La lista de los *Topics* publicados son los únicos tipos de mensajes que podrían grabarse en el archivo de grabacion de datos, ya que sólo se graban los mensajes publicados. <br> El *Topic* `/turtle1/cmd_vel` es el mensaje de comando publicado por `teleop_turtle` que es tomado como entrada por el proceso `turtlesim`. <br> Los mensajes `/turtle1/color_sensor` y `/turtle1/pose` son mensajes de salida publicados por `turtlesim`. \n",
    "\n",
    "- Ahora vamos a grabar los datos publicados. Abra una nueva ventana/pestaña de terminal. En esta ventana ejecute los siguientes comandos:\n",
    "\n",
    ">| []() |  []() |\n",
    "|:---:|:---:| \n",
    "| <img src=\"IMAGES/objects/Tango icon library/Apps/accessories-text-editor.svg\"> |`$ mkdir ~/bagfiles` <br> `$ cd ~/bagfiles` <br> `$ rosbag record -a`\n",
    "\n",
    ">| []() |  []() |\n",
    "|:---:|:---:| \n",
    "| <img src=\"IMAGES/objects/notice.svg\"> | Sólo estamos haciendo un directorio temporal para registrar datos y luego ejecutando `running rosbag` con la opción `-a`, indicando que todos los *Topics* publicados deben ser acumulados en un archivo `.bag`. \n",
    "\n",
    "- Vuelva a la ventana del terminal con `turtle_teleop` activo y mueva la tortuga durante unos 10 segundos.\n",
    "\n",
    "- En la ventana/pestaña en la que se ejecuta el `rosbag record` exit con un Ctrl-C.\n",
    "\n",
    ">| []() |  []() |\n",
    "|:---:|:---:| \n",
    "| <img src=\"IMAGES/objects/notice.svg\"> | Ahora examine el contenido del directorio `~/bagfiles`. Debería ver un archivo con un nombre que comience con el año, la fecha, la hora y el sufijo `.bag`. Este es el archivo `.bag` que contiene todos los *Topics* publicados por cualquier nodo en el momento en que se estaba ejecutando el `rosbag record`. \n",
    "\n",
    "### Grabar algunos topics\n",
    "\n",
    "- Será la misma logica que precedamente, pero hay que añadir el argumento `-O`:\n",
    "\n",
    ">| []() |  []() |\n",
    "|:---:|:---:| \n",
    "| <img src=\"IMAGES/objects/Tango icon library/Apps/accessories-text-editor.svg\"> |`$ rosbag record -O subset /turtle1/cmd_vel /turtle1/pose`\n",
    "\n",
    "\n",
    "### Examinar el archivo .bag\n",
    "\n",
    "- Usando los comandos rosbag info y rosbag play, podemos analisar el grabado anterior.\n",
    "\n",
    "- Ejecute el siguiente comando desde el directorio bagfiles: \n",
    "\n",
    ">| []() |  []() |\n",
    "|:---:|:---:| \n",
    "| <img src=\"IMAGES/objects/Tango icon library/Apps/accessories-text-editor.svg\"> |`$ rosbag info <your bagfile>`\n",
    "\n",
    "- Verás algo parecido a eso:\n",
    "\n",
    ">| []() |  []() |\n",
    "|:---:|:---:| \n",
    "| <img src=\"IMAGES/objects/Tango icon library/Apps/utilities-terminal.svg\"> | <img src=\"IMAGES/rosbag_info.png\">\n",
    "\n",
    ">| []() |  []() |\n",
    "|:---:|:---:| \n",
    "| <img src=\"IMAGES/objects/notice.svg\"> | Esto nos indica los nombres y tipos de *Topics*, así como el número de cada mensaje de *Topic* contenido en el archivo `bag`. \n",
    "\n",
    "### Leer el archivo .bag\n",
    "\n",
    "- Primero, mata el nodo `teleop_key` \n",
    "\n",
    "- Ejecute el siguiente comando desde el directorio bagfiles: \n",
    "\n",
    ">| []() |  []() |\n",
    "|:---:|:---:| \n",
    "| <img src=\"IMAGES/objects/Tango icon library/Apps/accessories-text-editor.svg\"> |`$ rosbag play <your bagfile>`\n",
    "\n",
    "- Verás algo parecido a eso (*bag* con todos los *Topics*):\n",
    "\n",
    ">| []() |  []() |\n",
    "|:---:|:---:| \n",
    "| <img src=\"IMAGES/objects/Tango icon library/Apps/utilities-terminal.svg\"> | <img src=\"IMAGES/rosbag_play.png\">\n"
   ]
  },
  {
   "cell_type": "markdown",
   "metadata": {},
   "source": [
    "### Listo!\n",
    "\n",
    "- Ya conoces todos los elementos básicos sobre los *Bags* para empezar a usar ROS.\n",
    "- Podes consultar la 'Ficha Recapitulativa' distribuida para más comandos útiles."
   ]
  }
 ],
 "metadata": {
  "kernelspec": {
   "display_name": "Python 2",
   "language": "python",
   "name": "python2"
  },
  "language_info": {
   "codemirror_mode": {
    "name": "ipython",
    "version": 2
   },
   "file_extension": ".py",
   "mimetype": "text/x-python",
   "name": "python",
   "nbconvert_exporter": "python",
   "pygments_lexer": "ipython2",
   "version": "2.7.12"
  },
  "latex_envs": {
   "LaTeX_envs_menu_present": true,
   "autoclose": false,
   "autocomplete": true,
   "bibliofile": "biblio.bib",
   "cite_by": "apalike",
   "current_citInitial": 1,
   "eqLabelWithNumbers": true,
   "eqNumInitial": 1,
   "hotkeys": {
    "equation": "Ctrl-E",
    "itemize": "Ctrl-I"
   },
   "labels_anchors": false,
   "latex_user_defs": false,
   "report_style_numbering": false,
   "user_envs_cfg": false
  },
  "toc": {
   "base_numbering": 1,
   "nav_menu": {},
   "number_sections": true,
   "sideBar": true,
   "skip_h1_title": false,
   "title_cell": "Índice",
   "title_sidebar": "Índice",
   "toc_cell": true,
   "toc_position": {},
   "toc_section_display": true,
   "toc_window_display": true
  }
 },
 "nbformat": 4,
 "nbformat_minor": 2
}
