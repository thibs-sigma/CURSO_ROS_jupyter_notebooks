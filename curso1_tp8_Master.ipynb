{
 "cells": [
  {
   "cell_type": "markdown",
   "metadata": {
    "toc": true
   },
   "source": [
    "<h1>Índice<span class=\"tocSkip\"></span></h1>\n",
    "<div class=\"toc\"><ul class=\"toc-item\"><li><span><a href=\"#Curso-Básico-de-ROS-(Robot-Operating-System)---Prácticas-2\" data-toc-modified-id=\"Curso-Básico-de-ROS-(Robot-Operating-System)---Prácticas-2-1\"><span class=\"toc-item-num\">1&nbsp;&nbsp;</span>Curso Básico de ROS (Robot Operating System) - Prácticas 2</a></span><ul class=\"toc-item\"><li><span><a href=\"#ROS-Nodes\" data-toc-modified-id=\"ROS-Nodes-1.1\"><span class=\"toc-item-num\">1.1&nbsp;&nbsp;</span>ROS Nodes</a></span><ul class=\"toc-item\"><li><span><a href=\"#roscore\" data-toc-modified-id=\"roscore-1.1.1\"><span class=\"toc-item-num\">1.1.1&nbsp;&nbsp;</span>roscore</a></span></li><li><span><a href=\"#rosnode\" data-toc-modified-id=\"rosnode-1.1.2\"><span class=\"toc-item-num\">1.1.2&nbsp;&nbsp;</span>rosnode</a></span></li><li><span><a href=\"#rosrun\" data-toc-modified-id=\"rosrun-1.1.3\"><span class=\"toc-item-num\">1.1.3&nbsp;&nbsp;</span>rosrun</a></span></li><li><span><a href=\"#Listo!\" data-toc-modified-id=\"Listo!-1.1.4\"><span class=\"toc-item-num\">1.1.4&nbsp;&nbsp;</span>Listo!</a></span></li></ul></li></ul></li></ul></div>"
   ]
  },
  {
   "cell_type": "markdown",
   "metadata": {},
   "source": [
    "# Curso Básico de ROS (Robot Operating System) - Prácticas 2\n",
    "Jupyter Notebook para los exercios prácticos de la sessión #1 del curso.\n",
    "\n",
    "- Primera ejecución de ROS\n",
    "    - `roscore` (`ros` + `core`)\n",
    "    \n",
    "- Comprensión de los nodos\n",
    "    - `rosnode` (`ros` + `node`)\n",
    "\n",
    "- Lanzamiento de un node\n",
    "    - `rosrun` (`ros` + `run`)"
   ]
  },
  {
   "cell_type": "markdown",
   "metadata": {},
   "source": [
    "##  ROS Nodes"
   ]
  },
  {
   "cell_type": "markdown",
   "metadata": {},
   "source": [
    "### roscore\n",
    "- roscore es lo primero que debe ejecutar cuando utilice ROS.\n",
    "\n",
    ">| []() |  []() |\n",
    "|---|---| \n",
    "| <img src=\"IMAGES/objects/notice.svg\"> | Veremos más adelante que también se puede utilizar los comandos `rosrun` y `roslaunch`, que ejecutan automaticamente el `roscore` | \n",
    "\n",
    "- Ejecuta la linea siguiente:\n",
    "\n",
    ">| []() |  []() |\n",
    "|:---:|:---:| \n",
    "| <img src=\"IMAGES/objects/Tango icon library/Apps/accessories-text-editor.svg\"> |`$ roscore`\n",
    "\n",
    "- Verás algo parecido a eso:\n",
    "\n",
    "<img src=\"IMAGES/roscore.png\">\n",
    "\n",
    ">| []() |  []() |\n",
    "|:---:|:---:| \n",
    "| <img src=\"IMAGES/objects/important-red.svg\"> | Tenga en cuenta que debe mantener abierto el terminal anterior, ya sea abriendo una nueva pestaña (usando `CTRL+Maj+T`) o simplemente minimizándola. \n",
    "\n"
   ]
  },
  {
   "cell_type": "markdown",
   "metadata": {},
   "source": [
    "### rosnode\n",
    "\n",
    "- `rosnode` muestra información sobre los nodos de ROS que se están ejecutando actualmente. \n",
    "- El comando `rosnode list` enumera estos nodos activos:\n",
    "\n",
    ">| []() |  []() |\n",
    "|:---:|:---:| \n",
    "| <img src=\"IMAGES/objects/Tango icon library/Apps/accessories-text-editor.svg\"> |`$ rosnode list`\n",
    "\n",
    "- La salida debería mostrar `/rosout`.\n",
    "\n",
    ">| []() |  []() |\n",
    "|---|---| \n",
    "| <img src=\"IMAGES/objects/notice.svg\"> | Esto nos mostró que sólo hay un nodo funcionando: rosout. Esto siempre se está ejecutando a medida que recoge y registra los datos de debug de los nodos. | \n",
    "\n",
    "- El comando `rosnode info` devuelve información sobre un nodo específico. Intenta:\n",
    "\n",
    ">| []() |  []() |\n",
    "|:---:|:---:| \n",
    "| <img src=\"IMAGES/objects/Tango icon library/Apps/accessories-text-editor.svg\"> |`$ rosnode info /rosout`\n",
    "\n",
    "- Eso nos da más información sobre `rosout`:\n",
    "\n",
    "<img src=\"IMAGES/rosnode.png\">\n",
    "\n",
    "- Se puede también usar un interfaz gráfica:\n",
    "\n",
    ">| []() |  []() |\n",
    "|:---:|:---:| \n",
    "| <img src=\"IMAGES/objects/Tango icon library/Apps/accessories-text-editor.svg\"> |`$ rqt_graph`\n",
    "\n",
    "<img src=\"IMAGES/rqt_graph.png\">"
   ]
  },
  {
   "cell_type": "markdown",
   "metadata": {},
   "source": [
    "### rosrun\n",
    "\n",
    "- Ahora, vamos a ver algunos nodos más. Para esto, vamos a usar `rosrun` para traer otro nodos.\n",
    "\n",
    "- `rosrun` te permite usar el nombre del paquete para ejecutar directamente un nodo dentro de un paquete (sin tener que conocer la ruta del paquete). \n",
    "\n",
    "- Se usa de esa manera:\n",
    "\n",
    "    ```bash\n",
    "    $ rosrun [package_name] [node_name]\n",
    "    ```\n",
    "\n",
    "- Así que ahora podemos ejecutar el `turtlesim_node` en el paquete `turtlesim` (un simulador 2D muy simple, útil para entender los conceptos esentiales de ROS).\n",
    "\n",
    "- Ejecuta ese en una nueva pestaña (o nuevo terminal), ejecutando el simulador:\n",
    "\n",
    ">| []() |  []() |\n",
    "|:---:|:---:| \n",
    "| <img src=\"IMAGES/objects/Tango icon library/Apps/accessories-text-editor.svg\"> |`$ rosrun turtlesim turtlesim_node`\n",
    "\n",
    "- En una nueva pestaña, ejectua:\n",
    "\n",
    ">| []() |  []() |\n",
    "|:---:|:---:| \n",
    "| <img src=\"IMAGES/objects/Tango icon library/Apps/accessories-text-editor.svg\"> |`$ rosnode list`\n",
    "\n",
    "- Deberías ver el nuevo nodo `/turtlesim`, además del `/rosout` existente.\n",
    "\n",
    "<img src=\"IMAGES/turtlesim_node.png\">\n"
   ]
  },
  {
   "cell_type": "markdown",
   "metadata": {},
   "source": [
    "### Listo!\n",
    "\n",
    "- Ya conoces todos los elementos básicos sobre los Nodes para empezar a usar ROS.\n",
    "- Podes consultar la 'Ficha Recapitulativa' distribuida para más comandos útiles."
   ]
  }
 ],
 "metadata": {
  "kernelspec": {
   "display_name": "Python 2",
   "language": "python",
   "name": "python2"
  },
  "language_info": {
   "codemirror_mode": {
    "name": "ipython",
    "version": 2
   },
   "file_extension": ".py",
   "mimetype": "text/x-python",
   "name": "python",
   "nbconvert_exporter": "python",
   "pygments_lexer": "ipython2",
   "version": "2.7.12"
  },
  "latex_envs": {
   "LaTeX_envs_menu_present": true,
   "autoclose": false,
   "autocomplete": true,
   "bibliofile": "biblio.bib",
   "cite_by": "apalike",
   "current_citInitial": 1,
   "eqLabelWithNumbers": true,
   "eqNumInitial": 1,
   "hotkeys": {
    "equation": "Ctrl-E",
    "itemize": "Ctrl-I"
   },
   "labels_anchors": false,
   "latex_user_defs": false,
   "report_style_numbering": false,
   "user_envs_cfg": false
  },
  "toc": {
   "base_numbering": 1,
   "nav_menu": {},
   "number_sections": true,
   "sideBar": true,
   "skip_h1_title": false,
   "title_cell": "Índice",
   "title_sidebar": "Índice",
   "toc_cell": true,
   "toc_position": {},
   "toc_section_display": true,
   "toc_window_display": true
  }
 },
 "nbformat": 4,
 "nbformat_minor": 2
}
